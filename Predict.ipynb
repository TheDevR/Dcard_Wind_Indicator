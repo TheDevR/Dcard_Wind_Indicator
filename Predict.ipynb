{
  "cells": [
    {
      "cell_type": "code",
      "execution_count": null,
      "metadata": {
        "id": "Aq1UQ15h-WTY",
        "colab": {
          "base_uri": "https://localhost:8080/"
        },
        "outputId": "2707dbce-c7e1-478b-a7fc-aab9c1347e9b"
      },
      "outputs": [
        {
          "output_type": "stream",
          "name": "stdout",
          "text": [
            "Looking in indexes: https://pypi.org/simple, https://us-python.pkg.dev/colab-wheels/public/simple/\n",
            "Collecting keras_tuner\n",
            "  Downloading keras_tuner-1.1.2-py3-none-any.whl (133 kB)\n",
            "\u001b[K     |████████████████████████████████| 133 kB 5.1 MB/s \n",
            "\u001b[?25hRequirement already satisfied: tensorboard in /usr/local/lib/python3.7/dist-packages (from keras_tuner) (2.8.0)\n",
            "Collecting kt-legacy\n",
            "  Downloading kt_legacy-1.0.4-py3-none-any.whl (9.6 kB)\n",
            "Requirement already satisfied: requests in /usr/local/lib/python3.7/dist-packages (from keras_tuner) (2.23.0)\n",
            "Requirement already satisfied: packaging in /usr/local/lib/python3.7/dist-packages (from keras_tuner) (21.3)\n",
            "Requirement already satisfied: ipython in /usr/local/lib/python3.7/dist-packages (from keras_tuner) (5.5.0)\n",
            "Requirement already satisfied: numpy in /usr/local/lib/python3.7/dist-packages (from keras_tuner) (1.21.6)\n",
            "Requirement already satisfied: simplegeneric>0.8 in /usr/local/lib/python3.7/dist-packages (from ipython->keras_tuner) (0.8.1)\n",
            "Requirement already satisfied: pickleshare in /usr/local/lib/python3.7/dist-packages (from ipython->keras_tuner) (0.7.5)\n",
            "Requirement already satisfied: decorator in /usr/local/lib/python3.7/dist-packages (from ipython->keras_tuner) (4.4.2)\n",
            "Requirement already satisfied: pexpect in /usr/local/lib/python3.7/dist-packages (from ipython->keras_tuner) (4.8.0)\n",
            "Requirement already satisfied: pygments in /usr/local/lib/python3.7/dist-packages (from ipython->keras_tuner) (2.6.1)\n",
            "Requirement already satisfied: setuptools>=18.5 in /usr/local/lib/python3.7/dist-packages (from ipython->keras_tuner) (57.4.0)\n",
            "Requirement already satisfied: prompt-toolkit<2.0.0,>=1.0.4 in /usr/local/lib/python3.7/dist-packages (from ipython->keras_tuner) (1.0.18)\n",
            "Requirement already satisfied: traitlets>=4.2 in /usr/local/lib/python3.7/dist-packages (from ipython->keras_tuner) (5.1.1)\n",
            "Requirement already satisfied: wcwidth in /usr/local/lib/python3.7/dist-packages (from prompt-toolkit<2.0.0,>=1.0.4->ipython->keras_tuner) (0.2.5)\n",
            "Requirement already satisfied: six>=1.9.0 in /usr/local/lib/python3.7/dist-packages (from prompt-toolkit<2.0.0,>=1.0.4->ipython->keras_tuner) (1.15.0)\n",
            "Requirement already satisfied: pyparsing!=3.0.5,>=2.0.2 in /usr/local/lib/python3.7/dist-packages (from packaging->keras_tuner) (3.0.9)\n",
            "Requirement already satisfied: ptyprocess>=0.5 in /usr/local/lib/python3.7/dist-packages (from pexpect->ipython->keras_tuner) (0.7.0)\n",
            "Requirement already satisfied: chardet<4,>=3.0.2 in /usr/local/lib/python3.7/dist-packages (from requests->keras_tuner) (3.0.4)\n",
            "Requirement already satisfied: urllib3!=1.25.0,!=1.25.1,<1.26,>=1.21.1 in /usr/local/lib/python3.7/dist-packages (from requests->keras_tuner) (1.24.3)\n",
            "Requirement already satisfied: idna<3,>=2.5 in /usr/local/lib/python3.7/dist-packages (from requests->keras_tuner) (2.10)\n",
            "Requirement already satisfied: certifi>=2017.4.17 in /usr/local/lib/python3.7/dist-packages (from requests->keras_tuner) (2022.6.15)\n",
            "Requirement already satisfied: google-auth<3,>=1.6.3 in /usr/local/lib/python3.7/dist-packages (from tensorboard->keras_tuner) (1.35.0)\n",
            "Requirement already satisfied: tensorboard-data-server<0.7.0,>=0.6.0 in /usr/local/lib/python3.7/dist-packages (from tensorboard->keras_tuner) (0.6.1)\n",
            "Requirement already satisfied: grpcio>=1.24.3 in /usr/local/lib/python3.7/dist-packages (from tensorboard->keras_tuner) (1.46.3)\n",
            "Requirement already satisfied: absl-py>=0.4 in /usr/local/lib/python3.7/dist-packages (from tensorboard->keras_tuner) (1.1.0)\n",
            "Requirement already satisfied: google-auth-oauthlib<0.5,>=0.4.1 in /usr/local/lib/python3.7/dist-packages (from tensorboard->keras_tuner) (0.4.6)\n",
            "Requirement already satisfied: wheel>=0.26 in /usr/local/lib/python3.7/dist-packages (from tensorboard->keras_tuner) (0.37.1)\n",
            "Requirement already satisfied: tensorboard-plugin-wit>=1.6.0 in /usr/local/lib/python3.7/dist-packages (from tensorboard->keras_tuner) (1.8.1)\n",
            "Requirement already satisfied: protobuf>=3.6.0 in /usr/local/lib/python3.7/dist-packages (from tensorboard->keras_tuner) (3.17.3)\n",
            "Requirement already satisfied: markdown>=2.6.8 in /usr/local/lib/python3.7/dist-packages (from tensorboard->keras_tuner) (3.3.7)\n",
            "Requirement already satisfied: werkzeug>=0.11.15 in /usr/local/lib/python3.7/dist-packages (from tensorboard->keras_tuner) (1.0.1)\n",
            "Requirement already satisfied: rsa<5,>=3.1.4 in /usr/local/lib/python3.7/dist-packages (from google-auth<3,>=1.6.3->tensorboard->keras_tuner) (4.8)\n",
            "Requirement already satisfied: cachetools<5.0,>=2.0.0 in /usr/local/lib/python3.7/dist-packages (from google-auth<3,>=1.6.3->tensorboard->keras_tuner) (4.2.4)\n",
            "Requirement already satisfied: pyasn1-modules>=0.2.1 in /usr/local/lib/python3.7/dist-packages (from google-auth<3,>=1.6.3->tensorboard->keras_tuner) (0.2.8)\n",
            "Requirement already satisfied: requests-oauthlib>=0.7.0 in /usr/local/lib/python3.7/dist-packages (from google-auth-oauthlib<0.5,>=0.4.1->tensorboard->keras_tuner) (1.3.1)\n",
            "Requirement already satisfied: importlib-metadata>=4.4 in /usr/local/lib/python3.7/dist-packages (from markdown>=2.6.8->tensorboard->keras_tuner) (4.11.4)\n",
            "Requirement already satisfied: zipp>=0.5 in /usr/local/lib/python3.7/dist-packages (from importlib-metadata>=4.4->markdown>=2.6.8->tensorboard->keras_tuner) (3.8.0)\n",
            "Requirement already satisfied: typing-extensions>=3.6.4 in /usr/local/lib/python3.7/dist-packages (from importlib-metadata>=4.4->markdown>=2.6.8->tensorboard->keras_tuner) (4.1.1)\n",
            "Requirement already satisfied: pyasn1<0.5.0,>=0.4.6 in /usr/local/lib/python3.7/dist-packages (from pyasn1-modules>=0.2.1->google-auth<3,>=1.6.3->tensorboard->keras_tuner) (0.4.8)\n",
            "Requirement already satisfied: oauthlib>=3.0.0 in /usr/local/lib/python3.7/dist-packages (from requests-oauthlib>=0.7.0->google-auth-oauthlib<0.5,>=0.4.1->tensorboard->keras_tuner) (3.2.0)\n",
            "Installing collected packages: kt-legacy, keras-tuner\n",
            "Successfully installed keras-tuner-1.1.2 kt-legacy-1.0.4\n"
          ]
        }
      ],
      "source": [
        "# !pip install scikit-learn\n",
        "!pip install keras_tuner\n",
        "from tensorflow.keras.models import Sequential, load_model\n",
        "from tensorflow.keras.layers import Dense\n",
        "from tensorflow import keras\n",
        "import keras_tuner as kt\n",
        "import matplotlib.pyplot as plt\n",
        "import pandas as pd\n",
        "import numpy as np\n",
        "import math"
      ]
    },
    {
      "cell_type": "markdown",
      "metadata": {
        "id": "iT4Ry6CslmiJ"
      },
      "source": [
        "匯入貼文資料即是否逆風"
      ]
    },
    {
      "cell_type": "code",
      "execution_count": null,
      "metadata": {
        "id": "1o9RM0SFJM9v",
        "colab": {
          "base_uri": "https://localhost:8080/"
        },
        "outputId": "4a7400a3-28eb-40fa-cacc-0834f0ba4e41"
      },
      "outputs": [
        {
          "output_type": "stream",
          "name": "stdout",
          "text": [
            "     like  pGender  collection  wordCount  stLike  stCmt\n",
            "419    80        0          15       1264     955    106\n",
            "135   247        0         170         79    2294     89\n",
            "272   111        0          32        842    1004      0\n",
            "0    2465        0        1089        816   29963    410\n",
            "293   112        0          27        697    4363    102\n"
          ]
        }
      ],
      "source": [
        "df = pd.read_csv('DcaTrainData.csv')\n",
        "df = df.drop(['isCondemn'],axis=1)\n",
        "df = df.sample(frac=1)\n",
        "# x = pd.get_dummies(df.drop(['cmt'],axis=1))\n",
        "# x = df.drop(['cmt'],axis=1)\n",
        "x = df[['like','pGender','collection','wordCount','stLike','stCmt']]\n",
        "print(x.head())\n",
        "y = df['like']\n",
        "testSize = 50\n",
        "xtrain = x[:-testSize]\n",
        "xtest = x[-testSize:]\n",
        "ytrain = y[:-testSize]\n",
        "ytest = y[-testSize:]"
      ]
    },
    {
      "cell_type": "markdown",
      "metadata": {
        "id": "Ku-pyuGAlr0a"
      },
      "source": [
        "建立模型"
      ]
    },
    {
      "cell_type": "code",
      "source": [
        "print(xtrain.shape[1])\n",
        "def model_builder(hp):\n",
        "  model = keras.Sequential()\n",
        "  model.add(Dense(units=hp.Int('units', min_value=16, max_value=1000, step=32),\n",
        "                  activation='relu',\n",
        "                  input_dim=xtrain.shape[1]))\n",
        "  model.add(keras.layers.Dense(units=hp.Int('units', min_value=32, max_value=1000, step=32),\n",
        "                               activation='relu'))\n",
        "  model.add(keras.layers.Dense(units=hp.Int('units', min_value=32, max_value=1000, step=32),\n",
        "                               activation='relu'))\n",
        "  model.add(Dense(units=1))\n",
        "  model.compile(optimizer='adam',\n",
        "                loss=[\"mean_squared_error\"],\n",
        "                metrics=[keras.metrics.MeanAbsoluteError()])\n",
        "\n",
        "  return model"
      ],
      "metadata": {
        "colab": {
          "base_uri": "https://localhost:8080/"
        },
        "id": "zs31LOhSc41I",
        "outputId": "14b2d738-8385-4054-d0fd-5e213ea4393c"
      },
      "execution_count": null,
      "outputs": [
        {
          "output_type": "stream",
          "name": "stdout",
          "text": [
            "6\n"
          ]
        }
      ]
    },
    {
      "cell_type": "code",
      "source": [
        "tuner = kt.Hyperband(model_builder,\n",
        "                     objective= kt.Objective(\"val_mean_absolute_error\", \"min\"),\n",
        "                     max_epochs=300,\n",
        "                     factor=3,\n",
        "                     directory='my_dir',\n",
        "                     project_name = '5'\n",
        "                     )\n",
        "\n",
        "stop_early = keras.callbacks.EarlyStopping(monitor='val_mean_squared_error', patience=50)\n",
        "tuner.search(xtrain, ytrain, epochs=500, validation_split=0.1, callbacks=[stop_early])\n",
        "# tuner.results_summary()\n",
        "\n",
        "model = tuner.get_best_models()[0]"
      ],
      "metadata": {
        "colab": {
          "base_uri": "https://localhost:8080/"
        },
        "id": "2Ey7xqsXdq1Q",
        "outputId": "98e7731f-c0b6-4f3b-aab1-e700e14d5523"
      },
      "execution_count": null,
      "outputs": [
        {
          "output_type": "stream",
          "name": "stdout",
          "text": [
            "Trial 31 Complete [00h 00m 02s]\n",
            "val_mean_absolute_error: 184.9744873046875\n",
            "\n",
            "Best val_mean_absolute_error So Far: 144.87620544433594\n",
            "Total elapsed time: 00h 00m 43s\n",
            "INFO:tensorflow:Oracle triggered exit\n",
            "Results summary\n",
            "Results in my_dir/5\n",
            "Showing 10 best trials\n",
            "<keras_tuner.engine.objective.Objective object at 0x7f4638beef90>\n",
            "Trial summary\n",
            "Hyperparameters:\n",
            "units: 176\n",
            "tuner/epochs: 2\n",
            "tuner/initial_epoch: 0\n",
            "tuner/bracket: 5\n",
            "tuner/round: 0\n",
            "Score: 144.87620544433594\n",
            "Trial summary\n",
            "Hyperparameters:\n",
            "units: 336\n",
            "tuner/epochs: 2\n",
            "tuner/initial_epoch: 0\n",
            "tuner/bracket: 5\n",
            "tuner/round: 0\n",
            "Score: 157.09445190429688\n",
            "Trial summary\n",
            "Hyperparameters:\n",
            "units: 144\n",
            "tuner/epochs: 2\n",
            "tuner/initial_epoch: 0\n",
            "tuner/bracket: 5\n",
            "tuner/round: 0\n",
            "Score: 158.06024169921875\n",
            "Trial summary\n",
            "Hyperparameters:\n",
            "units: 720\n",
            "tuner/epochs: 2\n",
            "tuner/initial_epoch: 0\n",
            "tuner/bracket: 5\n",
            "tuner/round: 0\n",
            "Score: 174.293701171875\n",
            "Trial summary\n",
            "Hyperparameters:\n",
            "units: 432\n",
            "tuner/epochs: 2\n",
            "tuner/initial_epoch: 0\n",
            "tuner/bracket: 5\n",
            "tuner/round: 0\n",
            "Score: 175.7325439453125\n",
            "Trial summary\n",
            "Hyperparameters:\n",
            "units: 400\n",
            "tuner/epochs: 2\n",
            "tuner/initial_epoch: 0\n",
            "tuner/bracket: 5\n",
            "tuner/round: 0\n",
            "Score: 177.44232177734375\n",
            "Trial summary\n",
            "Hyperparameters:\n",
            "units: 976\n",
            "tuner/epochs: 2\n",
            "tuner/initial_epoch: 0\n",
            "tuner/bracket: 5\n",
            "tuner/round: 0\n",
            "Score: 181.39553833007812\n",
            "Trial summary\n",
            "Hyperparameters:\n",
            "units: 592\n",
            "tuner/epochs: 2\n",
            "tuner/initial_epoch: 0\n",
            "tuner/bracket: 5\n",
            "tuner/round: 0\n",
            "Score: 183.2571258544922\n",
            "Trial summary\n",
            "Hyperparameters:\n",
            "units: 784\n",
            "tuner/epochs: 2\n",
            "tuner/initial_epoch: 0\n",
            "tuner/bracket: 5\n",
            "tuner/round: 0\n",
            "Score: 184.9744873046875\n",
            "Trial summary\n",
            "Hyperparameters:\n",
            "units: 304\n",
            "tuner/epochs: 2\n",
            "tuner/initial_epoch: 0\n",
            "tuner/bracket: 5\n",
            "tuner/round: 0\n",
            "Score: 185.11334228515625\n"
          ]
        }
      ]
    },
    {
      "cell_type": "code",
      "source": [
        "model.summary()"
      ],
      "metadata": {
        "colab": {
          "base_uri": "https://localhost:8080/"
        },
        "id": "KSPC9z3rBP9Z",
        "outputId": "42563921-5ce6-462b-b772-8209ba54a853"
      },
      "execution_count": null,
      "outputs": [
        {
          "output_type": "stream",
          "name": "stdout",
          "text": [
            "Model: \"sequential\"\n",
            "_________________________________________________________________\n",
            " Layer (type)                Output Shape              Param #   \n",
            "=================================================================\n",
            " dense (Dense)               (None, 176)               1232      \n",
            "                                                                 \n",
            " dense_1 (Dense)             (None, 176)               31152     \n",
            "                                                                 \n",
            " dense_2 (Dense)             (None, 176)               31152     \n",
            "                                                                 \n",
            " dense_3 (Dense)             (None, 1)                 177       \n",
            "                                                                 \n",
            "=================================================================\n",
            "Total params: 63,713\n",
            "Trainable params: 63,713\n",
            "Non-trainable params: 0\n",
            "_________________________________________________________________\n"
          ]
        }
      ]
    },
    {
      "cell_type": "code",
      "execution_count": null,
      "metadata": {
        "id": "bMvptBADTsP5",
        "colab": {
          "base_uri": "https://localhost:8080/"
        },
        "outputId": "342000b2-a499-430b-aa63-429e3076023f"
      },
      "outputs": [
        {
          "output_type": "stream",
          "name": "stdout",
          "text": [
            "Epoch 1/1000\n",
            "1/1 [==============================] - 0s 21ms/step - loss: 216.7851 - mean_absolute_error: 8.4407\n",
            "Epoch 2/1000\n",
            "1/1 [==============================] - 0s 12ms/step - loss: 196.4719 - mean_absolute_error: 7.9107\n",
            "Epoch 3/1000\n",
            "1/1 [==============================] - 0s 16ms/step - loss: 106.1937 - mean_absolute_error: 5.9163\n",
            "Epoch 4/1000\n",
            "1/1 [==============================] - 0s 13ms/step - loss: 22.4122 - mean_absolute_error: 2.8175\n",
            "Epoch 5/1000\n",
            "1/1 [==============================] - 0s 20ms/step - loss: 4.9053 - mean_absolute_error: 1.4464\n",
            "Epoch 6/1000\n",
            "1/1 [==============================] - 0s 18ms/step - loss: 48.5248 - mean_absolute_error: 3.9604\n",
            "Epoch 7/1000\n",
            "1/1 [==============================] - 0s 19ms/step - loss: 101.5470 - mean_absolute_error: 5.8095\n",
            "Epoch 8/1000\n",
            "1/1 [==============================] - 0s 17ms/step - loss: 116.6272 - mean_absolute_error: 6.2105\n",
            "Epoch 9/1000\n",
            "1/1 [==============================] - 0s 17ms/step - loss: 83.4420 - mean_absolute_error: 5.2418\n",
            "Epoch 10/1000\n",
            "1/1 [==============================] - 0s 17ms/step - loss: 33.0465 - mean_absolute_error: 3.3449\n",
            "Epoch 11/1000\n",
            "1/1 [==============================] - 0s 21ms/step - loss: 3.4723 - mean_absolute_error: 1.2432\n",
            "Epoch 12/1000\n",
            "1/1 [==============================] - 0s 22ms/step - loss: 10.6505 - mean_absolute_error: 2.0198\n",
            "Epoch 13/1000\n",
            "1/1 [==============================] - 0s 17ms/step - loss: 38.7301 - mean_absolute_error: 3.5340\n",
            "Epoch 14/1000\n",
            "1/1 [==============================] - 0s 19ms/step - loss: 58.6882 - mean_absolute_error: 4.4838\n",
            "Epoch 15/1000\n",
            "1/1 [==============================] - 0s 19ms/step - loss: 54.2629 - mean_absolute_error: 4.1578\n",
            "Epoch 16/1000\n",
            "1/1 [==============================] - 0s 17ms/step - loss: 30.9995 - mean_absolute_error: 3.3067\n",
            "Epoch 17/1000\n",
            "1/1 [==============================] - 0s 17ms/step - loss: 8.6059 - mean_absolute_error: 1.7784\n",
            "Epoch 18/1000\n",
            "1/1 [==============================] - 0s 16ms/step - loss: 1.7913 - mean_absolute_error: 0.9268\n",
            "Epoch 19/1000\n",
            "1/1 [==============================] - 0s 19ms/step - loss: 11.0008 - mean_absolute_error: 2.0417\n",
            "Epoch 20/1000\n",
            "1/1 [==============================] - 0s 15ms/step - loss: 25.2790 - mean_absolute_error: 2.9356\n",
            "Epoch 21/1000\n",
            "1/1 [==============================] - 0s 16ms/step - loss: 32.4094 - mean_absolute_error: 3.3442\n",
            "Epoch 22/1000\n",
            "1/1 [==============================] - 0s 14ms/step - loss: 27.9391 - mean_absolute_error: 3.0581\n",
            "Epoch 23/1000\n",
            "1/1 [==============================] - 0s 14ms/step - loss: 15.9642 - mean_absolute_error: 2.4438\n",
            "Epoch 24/1000\n",
            "1/1 [==============================] - 0s 17ms/step - loss: 5.1167 - mean_absolute_error: 1.4207\n",
            "Epoch 25/1000\n",
            "1/1 [==============================] - 0s 17ms/step - loss: 1.4828 - mean_absolute_error: 0.8481\n",
            "Epoch 26/1000\n",
            "1/1 [==============================] - 0s 15ms/step - loss: 5.3354 - mean_absolute_error: 1.5234\n",
            "Epoch 27/1000\n",
            "1/1 [==============================] - 0s 15ms/step - loss: 12.1046 - mean_absolute_error: 2.0697\n",
            "Epoch 28/1000\n",
            "1/1 [==============================] - 0s 18ms/step - loss: 16.2466 - mean_absolute_error: 2.4484\n",
            "Epoch 29/1000\n",
            "1/1 [==============================] - 0s 21ms/step - loss: 15.2817 - mean_absolute_error: 2.3110\n",
            "Epoch 30/1000\n",
            "1/1 [==============================] - 0s 13ms/step - loss: 10.2999 - mean_absolute_error: 2.0013\n",
            "Epoch 31/1000\n",
            "1/1 [==============================] - 0s 13ms/step - loss: 4.7340 - mean_absolute_error: 1.3848\n",
            "Epoch 32/1000\n",
            "1/1 [==============================] - 0s 16ms/step - loss: 1.5945 - mean_absolute_error: 0.8959\n",
            "Epoch 33/1000\n",
            "1/1 [==============================] - 0s 20ms/step - loss: 1.8959 - mean_absolute_error: 0.9703\n",
            "Epoch 34/1000\n",
            "1/1 [==============================] - 0s 16ms/step - loss: 4.5196 - mean_absolute_error: 1.3627\n",
            "Epoch 35/1000\n",
            "1/1 [==============================] - 0s 14ms/step - loss: 7.3454 - mean_absolute_error: 1.7183\n",
            "Epoch 36/1000\n",
            "1/1 [==============================] - 0s 16ms/step - loss: 8.6318 - mean_absolute_error: 1.7949\n",
            "Epoch 37/1000\n",
            "1/1 [==============================] - 0s 13ms/step - loss: 7.8092 - mean_absolute_error: 1.7644\n",
            "Epoch 38/1000\n",
            "1/1 [==============================] - 0s 14ms/step - loss: 5.5503 - mean_absolute_error: 1.4824\n",
            "Epoch 39/1000\n",
            "1/1 [==============================] - 0s 16ms/step - loss: 3.0851 - mean_absolute_error: 1.1924\n",
            "Epoch 40/1000\n",
            "1/1 [==============================] - 0s 17ms/step - loss: 1.5183 - mean_absolute_error: 0.8447\n",
            "Epoch 41/1000\n",
            "1/1 [==============================] - 0s 15ms/step - loss: 1.2894 - mean_absolute_error: 0.7789\n",
            "Epoch 42/1000\n",
            "1/1 [==============================] - 0s 16ms/step - loss: 2.1326 - mean_absolute_error: 1.0243\n",
            "Epoch 43/1000\n",
            "1/1 [==============================] - 0s 19ms/step - loss: 3.3687 - mean_absolute_error: 1.2050\n",
            "Epoch 44/1000\n",
            "1/1 [==============================] - 0s 20ms/step - loss: 4.3047 - mean_absolute_error: 1.3573\n",
            "Epoch 45/1000\n",
            "1/1 [==============================] - 0s 14ms/step - loss: 4.5388 - mean_absolute_error: 1.3678\n",
            "Epoch 46/1000\n",
            "1/1 [==============================] - 0s 13ms/step - loss: 4.0436 - mean_absolute_error: 1.3183\n",
            "Epoch 47/1000\n",
            "1/1 [==============================] - 0s 13ms/step - loss: 3.1060 - mean_absolute_error: 1.1677\n",
            "Epoch 48/1000\n",
            "1/1 [==============================] - 0s 13ms/step - loss: 2.1205 - mean_absolute_error: 1.0156\n",
            "Epoch 49/1000\n",
            "1/1 [==============================] - 0s 15ms/step - loss: 1.4170 - mean_absolute_error: 0.8265\n",
            "Epoch 50/1000\n",
            "1/1 [==============================] - 0s 14ms/step - loss: 1.1464 - mean_absolute_error: 0.7337\n",
            "Epoch 51/1000\n",
            "1/1 [==============================] - 0s 15ms/step - loss: 1.2770 - mean_absolute_error: 0.7920\n",
            "Epoch 52/1000\n",
            "1/1 [==============================] - 0s 20ms/step - loss: 1.6542 - mean_absolute_error: 0.8841\n",
            "Epoch 53/1000\n",
            "1/1 [==============================] - 0s 16ms/step - loss: 2.0845 - mean_absolute_error: 1.0092\n",
            "Epoch 54/1000\n",
            "1/1 [==============================] - 0s 15ms/step - loss: 2.4057 - mean_absolute_error: 1.0451\n",
            "Epoch 55/1000\n",
            "1/1 [==============================] - 0s 16ms/step - loss: 2.5263 - mean_absolute_error: 1.0903\n",
            "Epoch 56/1000\n",
            "1/1 [==============================] - 0s 20ms/step - loss: 2.4391 - mean_absolute_error: 1.0518\n",
            "Epoch 57/1000\n",
            "1/1 [==============================] - 0s 15ms/step - loss: 2.1936 - mean_absolute_error: 1.0299\n",
            "Epoch 58/1000\n",
            "1/1 [==============================] - 0s 12ms/step - loss: 1.8722 - mean_absolute_error: 0.9367\n",
            "Epoch 59/1000\n",
            "1/1 [==============================] - 0s 14ms/step - loss: 1.5531 - mean_absolute_error: 0.8846\n",
            "Epoch 60/1000\n",
            "1/1 [==============================] - 0s 18ms/step - loss: 1.2971 - mean_absolute_error: 0.7856\n",
            "Epoch 61/1000\n",
            "1/1 [==============================] - 0s 19ms/step - loss: 1.1365 - mean_absolute_error: 0.7394\n",
            "Epoch 62/1000\n",
            "1/1 [==============================] - 0s 21ms/step - loss: 1.0752 - mean_absolute_error: 0.7063\n",
            "Epoch 63/1000\n",
            "1/1 [==============================] - 0s 16ms/step - loss: 1.0962 - mean_absolute_error: 0.7132\n",
            "Epoch 64/1000\n",
            "1/1 [==============================] - 0s 15ms/step - loss: 1.1725 - mean_absolute_error: 0.7574\n",
            "Epoch 65/1000\n",
            "1/1 [==============================] - 0s 14ms/step - loss: 1.2763 - mean_absolute_error: 0.7771\n",
            "Epoch 66/1000\n",
            "1/1 [==============================] - 0s 14ms/step - loss: 1.3843 - mean_absolute_error: 0.8373\n",
            "Epoch 67/1000\n",
            "1/1 [==============================] - 0s 19ms/step - loss: 1.4798 - mean_absolute_error: 0.8362\n",
            "Epoch 68/1000\n",
            "1/1 [==============================] - 0s 14ms/step - loss: 1.5524 - mean_absolute_error: 0.8871\n",
            "Epoch 69/1000\n",
            "1/1 [==============================] - 0s 17ms/step - loss: 1.5993 - mean_absolute_error: 0.8683\n",
            "Epoch 70/1000\n",
            "1/1 [==============================] - 0s 16ms/step - loss: 1.6225 - mean_absolute_error: 0.9052\n",
            "Epoch 71/1000\n",
            "1/1 [==============================] - 0s 16ms/step - loss: 1.6267 - mean_absolute_error: 0.8747\n",
            "Epoch 72/1000\n",
            "1/1 [==============================] - 0s 16ms/step - loss: 1.6169 - mean_absolute_error: 0.9038\n",
            "Epoch 73/1000\n",
            "1/1 [==============================] - 0s 17ms/step - loss: 1.5993 - mean_absolute_error: 0.8686\n",
            "Epoch 74/1000\n",
            "1/1 [==============================] - 0s 20ms/step - loss: 1.5790 - mean_absolute_error: 0.8953\n",
            "Epoch 75/1000\n",
            "1/1 [==============================] - 0s 19ms/step - loss: 1.5606 - mean_absolute_error: 0.8599\n",
            "Epoch 76/1000\n",
            "1/1 [==============================] - 0s 15ms/step - loss: 1.5476 - mean_absolute_error: 0.8874\n",
            "Epoch 77/1000\n",
            "1/1 [==============================] - 0s 13ms/step - loss: 1.5434 - mean_absolute_error: 0.8560\n",
            "Epoch 78/1000\n",
            "1/1 [==============================] - 0s 24ms/step - loss: 1.5508 - mean_absolute_error: 0.8877\n",
            "Epoch 79/1000\n",
            "1/1 [==============================] - 0s 15ms/step - loss: 1.5733 - mean_absolute_error: 0.8635\n",
            "Epoch 80/1000\n",
            "1/1 [==============================] - 0s 12ms/step - loss: 1.6147 - mean_absolute_error: 0.9044\n",
            "Epoch 81/1000\n",
            "1/1 [==============================] - 0s 15ms/step - loss: 1.6810 - mean_absolute_error: 0.8913\n",
            "Epoch 82/1000\n",
            "1/1 [==============================] - 0s 21ms/step - loss: 1.7802 - mean_absolute_error: 0.9455\n",
            "Epoch 83/1000\n",
            "1/1 [==============================] - 0s 15ms/step - loss: 1.9250 - mean_absolute_error: 0.9480\n",
            "Epoch 84/1000\n",
            "1/1 [==============================] - 0s 14ms/step - loss: 2.1325 - mean_absolute_error: 1.0205\n",
            "Epoch 85/1000\n",
            "1/1 [==============================] - 0s 25ms/step - loss: 2.4298 - mean_absolute_error: 1.0470\n",
            "Epoch 86/1000\n",
            "1/1 [==============================] - 0s 16ms/step - loss: 2.8557 - mean_absolute_error: 1.1495\n",
            "Epoch 87/1000\n",
            "1/1 [==============================] - 0s 16ms/step - loss: 3.4755 - mean_absolute_error: 1.2181\n",
            "Epoch 88/1000\n",
            "1/1 [==============================] - 0s 15ms/step - loss: 4.3794 - mean_absolute_error: 1.3723\n",
            "Epoch 89/1000\n",
            "1/1 [==============================] - 0s 29ms/step - loss: 5.7222 - mean_absolute_error: 1.4983\n",
            "Epoch 90/1000\n",
            "1/1 [==============================] - 0s 28ms/step - loss: 7.7242 - mean_absolute_error: 1.7482\n",
            "Epoch 91/1000\n",
            "1/1 [==============================] - 0s 36ms/step - loss: 10.7723 - mean_absolute_error: 1.9742\n",
            "Epoch 92/1000\n",
            "1/1 [==============================] - 0s 23ms/step - loss: 15.4219 - mean_absolute_error: 2.3764\n",
            "Epoch 93/1000\n",
            "1/1 [==============================] - 0s 20ms/step - loss: 22.6689 - mean_absolute_error: 2.7867\n",
            "Epoch 94/1000\n",
            "1/1 [==============================] - 0s 31ms/step - loss: 33.9613 - mean_absolute_error: 3.4322\n",
            "Epoch 95/1000\n",
            "1/1 [==============================] - 0s 28ms/step - loss: 51.9968 - mean_absolute_error: 4.1683\n",
            "Epoch 96/1000\n",
            "1/1 [==============================] - 0s 27ms/step - loss: 80.5634 - mean_absolute_error: 5.2138\n",
            "Epoch 97/1000\n",
            "1/1 [==============================] - 0s 33ms/step - loss: 127.0775 - mean_absolute_error: 6.4770\n",
            "Epoch 98/1000\n",
            "1/1 [==============================] - 0s 27ms/step - loss: 200.8751 - mean_absolute_error: 8.2010\n",
            "Epoch 99/1000\n",
            "1/1 [==============================] - 0s 35ms/step - loss: 320.6667 - mean_absolute_error: 10.2459\n",
            "Epoch 100/1000\n",
            "1/1 [==============================] - 0s 28ms/step - loss: 505.3335 - mean_absolute_error: 12.9789\n",
            "Epoch 101/1000\n",
            "1/1 [==============================] - 0s 52ms/step - loss: 795.3419 - mean_absolute_error: 16.1253\n",
            "Epoch 102/1000\n",
            "1/1 [==============================] - 0s 24ms/step - loss: 1190.1075 - mean_absolute_error: 19.7355\n",
            "Epoch 103/1000\n",
            "1/1 [==============================] - 0s 20ms/step - loss: 1714.7849 - mean_absolute_error: 23.6532\n",
            "Epoch 104/1000\n",
            "1/1 [==============================] - 0s 23ms/step - loss: 2180.0061 - mean_absolute_error: 26.5515\n",
            "Epoch 105/1000\n",
            "1/1 [==============================] - 0s 32ms/step - loss: 2447.1423 - mean_absolute_error: 28.0058\n",
            "Epoch 106/1000\n",
            "1/1 [==============================] - 0s 32ms/step - loss: 2110.2791 - mean_absolute_error: 26.0073\n",
            "Epoch 107/1000\n",
            "1/1 [==============================] - 0s 28ms/step - loss: 1306.9030 - mean_absolute_error: 20.2151\n",
            "Epoch 108/1000\n",
            "1/1 [==============================] - 0s 31ms/step - loss: 401.1082 - mean_absolute_error: 11.3821\n",
            "Epoch 109/1000\n",
            "1/1 [==============================] - 0s 25ms/step - loss: 7.7853 - mean_absolute_error: 1.6517\n",
            "Epoch 110/1000\n",
            "1/1 [==============================] - 0s 22ms/step - loss: 262.3615 - mean_absolute_error: 9.0538\n",
            "Epoch 111/1000\n",
            "1/1 [==============================] - 0s 27ms/step - loss: 775.1038 - mean_absolute_error: 15.8717\n",
            "Epoch 112/1000\n",
            "1/1 [==============================] - 0s 20ms/step - loss: 1028.3928 - mean_absolute_error: 18.2489\n"
          ]
        }
      ],
      "source": [
        "stop_early = keras.callbacks.EarlyStopping(monitor='mean_absolute_error', patience=50)\n",
        "history = model.fit(xtrain,ytrain,epochs=1000,batch_size=500,callbacks=[stop_early])\n"
      ]
    },
    {
      "cell_type": "markdown",
      "metadata": {
        "id": "aPNw_Stbl0Is"
      },
      "source": [
        "測試"
      ]
    },
    {
      "cell_type": "code",
      "source": [
        "print(history.history.keys())\n",
        "plt.plot(history.history['mean_absolute_error'])\n",
        "plt.title('model accuracy')\n",
        "plt.ylabel('accuracy')\n",
        "plt.xlabel('epoch')\n",
        "plt.legend(['train', 'test'], loc='upper left')\n",
        "plt.show()\n",
        "# summarize history for loss\n",
        "le = [math.log(x,10) for x in history.history['loss']]\n",
        "# le = history.history['loss']\n",
        "plt.plot(le)\n",
        "plt.title('model loss')\n",
        "plt.ylabel('loss')\n",
        "plt.xlabel('epoch')\n",
        "plt.legend(['train', 'test'], loc='upper left')\n",
        "plt.show()"
      ],
      "metadata": {
        "id": "sW9HAwAkEXOE",
        "colab": {
          "base_uri": "https://localhost:8080/",
          "height": 592
        },
        "outputId": "7d8b96c1-c2f6-4836-d792-13d5cfc828de"
      },
      "execution_count": null,
      "outputs": [
        {
          "output_type": "stream",
          "name": "stdout",
          "text": [
            "dict_keys(['loss', 'mean_absolute_error'])\n"
          ]
        },
        {
          "output_type": "display_data",
          "data": {
            "text/plain": [
              "<Figure size 432x288 with 1 Axes>"
            ],
            "image/png": "[encoded data removed]"
          },
          "metadata": {
            "needs_background": "light"
          }
        },
        {
          "output_type": "display_data",
          "data": {
            "text/plain": [
              "<Figure size 432x288 with 1 Axes>"
            ],
            "image/png": "[encoded data removed]"
          },
          "metadata": {
            "needs_background": "light"
          }
        }
      ]
    },
    {
      "cell_type": "code",
      "execution_count": null,
      "metadata": {
        "id": "F1zTLgwPKGuh",
        "colab": {
          "base_uri": "https://localhost:8080/"
        },
        "outputId": "41e03603-57d7-4310-ce0a-c2e36852015e"
      },
      "outputs": [
        {
          "output_type": "stream",
          "name": "stdout",
          "text": [
            "[38.69, 62.55000000000018, 7.060000000000002, 8.599999999999994, 8.120000000000005, 4.34, 8.719999999999999, 4.019999999999996, 9.409999999999997, 7.099999999999994, 3.6899999999999977, 41.77999999999997, 5.060000000000002, 2.260000000000005, -21.769999999999982, -213.15000000000146, 4.8799999999999955, 1.5100000000000051, 44.39999999999998, 37.52000000000001, 3.280000000000001, 130.26000000000022, 1.480000000000004, 20.689999999999998, 9.389999999999986, 4.139999999999986, -61.460000000000036, 67.74000000000001, 10.629999999999995, 6.610000000000014, 5.150000000000006, 3.710000000000008, 3.6400000000000006, 5.829999999999998, 70.96000000000004, 5.350000000000023, 3.7900000000000063, 1.4500000000000028, 8.409999999999997, 4.530000000000001, 1.4000000000000057, 3.930000000000007, 2.8100000000000023, 0.6500000000000057, 1.620000000000001, 34.06, 3.769999999999996, 1.0900000000000034, 4.8799999999999955, 0.6200000000000045]\n",
            "[202.69, 2108.55, 160.06, 210.6, 145.12, 10.34, 166.72, 88.02, 255.41, 90.1, 172.69, 1438.78, 233.06, 79.26, 1190.23, 19457.85, 80.88, 79.51, 573.4, 241.52, 110.28, 4375.26, 85.48, 115.69, 148.39, 133.14, 1294.54, 1329.74, 498.63, 380.61, 92.15, 129.71, 86.64, 91.83, 799.96, 280.35, 81.79, 88.45, 193.41, 95.53, 101.4, 110.93, 84.81, 97.65, 17.62, 181.06, 97.77, 149.09, 148.88, 162.62]\n",
            "[  164  2046   153   202   137     6   158    84   246    83   169  1397\n",
            "   228    77  1212 19671    76    78   529   204   107  4245    84    95\n",
            "   139   129  1356  1262   488   374    87   126    83    86   729   275\n",
            "    78    87   185    91   100   107    82    97    16   147    94   148\n",
            "   144   162]\n"
          ]
        }
      ],
      "source": [
        "yRes = model.predict(xtest)\n",
        "# lxa = yRes\n",
        "lxa = [int(x[0]*100)/100 for x in yRes]\n",
        "lxa = np.array(lxa)\n",
        "lxb = [x for x in ytest]\n",
        "lxb = np.array(lxb)\n",
        "print(list(lxa-lxb))\n",
        "print(list(lxa))\n",
        "print(lxb)"
      ]
    },
    {
      "cell_type": "code",
      "execution_count": null,
      "metadata": {
        "id": "fEtddBr0KfYB"
      },
      "outputs": [],
      "source": [
        "model.save('DcaModel')"
      ]
    },
    {
      "cell_type": "code",
      "execution_count": null,
      "metadata": {
        "id": "wKIJgr0Cn982"
      },
      "outputs": [],
      "source": [
        "# df = pd.read_csv('DcaTrainData0.csv')\n",
        "# x = pd.get_dummies(df.drop(['isCondemn'],axis=1))\n",
        "# y = df['isCondemn']\n",
        "# yRes = model.predict(x)\n",
        "# lres = [int(v[0]*1000)/1000 for v in yRes]\n",
        "# lres = np.asarray(lres)\n",
        "# y = np.asarray(y)\n",
        "# # sim = lres.dot(y)/ (np.linalg.norm(lres) * np.linalg.norm(y))\n",
        "# # print(int(sim*1000)/1000)\n",
        "# print(lres - y)\n",
        "\n",
        "\n",
        "# y = ytest\n",
        "# yRes = model.predict(xtest)\n",
        "# lres = [int(v[0]*1000)/1000 for v in yRes]\n",
        "# lres = np.asarray(lres)\n",
        "# y = np.asarray(y)\n",
        "# sim = lres.dot(y)/ (np.linalg.norm(lres) * np.linalg.norm(y))\n",
        "# print(sim)"
      ]
    }
  ],
  "metadata": {
    "colab": {
      "provenance": []
    },
    "kernelspec": {
      "display_name": "Python 3",
      "name": "python3"
    },
    "language_info": {
      "name": "python"
    }
  },
  "nbformat": 4,
  "nbformat_minor": 0
}